{
  "cells": [
    {
      "cell_type": "markdown",
      "metadata": {
        "id": "view-in-github"
      },
      "source": [
        "<a href=\"https://colab.research.google.com/github/unt-iialab/INFO5731_Spring2020/blob/master/Assignments/INFO5731_Assignment_One.ipynb\" target=\"_parent\"><img src=\"https://colab.research.google.com/assets/colab-badge.svg\" alt=\"Open In Colab\"/></a>"
      ]
    },
    {
      "cell_type": "markdown",
      "metadata": {
        "id": "Ryk8D1Q4Wsrp"
      },
      "source": [
        "# **INFO5731 Assignment One**"
      ]
    },
    {
      "cell_type": "markdown",
      "metadata": {
        "id": "90_NR8c5XGWc"
      },
      "source": [
        "# Question 1\n",
        "\n",
        "(20 points). Write a Python program to generate 12 random numbers between 1 and 100. Sort the list of numbers in ascending order and print it out. Sort the list of numbers in descending order and print it out. Calculate the average for the group and print it out."
      ]
    },
    {
      "cell_type": "code",
      "execution_count": 1,
      "metadata": {
        "id": "5QX6bJjGWXY9",
        "colab": {
          "base_uri": "https://localhost:8080/"
        },
        "outputId": "6338fdbe-e873-4a05-97b2-d3dbf3344fa1"
      },
      "outputs": [
        {
          "output_type": "stream",
          "name": "stdout",
          "text": [
            "Random Numbers: [75, 28, 67, 95, 87, 77, 40, 12, 41, 79, 3, 27]\n",
            "Ascending Order: [3, 12, 27, 28, 40, 41, 67, 75, 77, 79, 87, 95]\n",
            "Descending Order: [95, 87, 79, 77, 75, 67, 41, 40, 28, 27, 12, 3]\n",
            "Average: 52.583333333333336\n"
          ]
        }
      ],
      "source": [
        "# Your code here\n",
        "\n",
        "import random\n",
        "\n",
        "# Generate 12 random numbers between 1 and 100\n",
        "random_numbers = [random.randint(1, 100) for _ in range(12)]\n",
        "\n",
        "# Sort the list in ascending order\n",
        "ascending_sorted = sorted(random_numbers)\n",
        "\n",
        "# Sort the list in descending order\n",
        "descending_sorted = sorted(random_numbers, reverse=True)\n",
        "\n",
        "# Calculate the average\n",
        "average = sum(random_numbers) / len(random_numbers)\n",
        "\n",
        "# Print the sorted lists and the average\n",
        "print(\"Random Numbers:\", random_numbers)\n",
        "print(\"Ascending Order:\", ascending_sorted)\n",
        "print(\"Descending Order:\", descending_sorted)\n",
        "print(\"Average:\", average)\n"
      ]
    },
    {
      "cell_type": "markdown",
      "metadata": {
        "id": "1F_PZdH9Sh49"
      },
      "source": [
        "# Question 2\n",
        "(25 points).\n",
        "\n",
        "Write a program that will do the following string formatting tasks:\n",
        "\n",
        "(1) Ask the user to enter two sentences.\n",
        "\n",
        "(2) Make each sentence into a list. Each element in the list should correspond to a word in the sentence. For example, if the sentence is \"Alas! Am I alive? This is my first python program\", the program should print out ['Alas, '!', 'Am', 'I', 'alive, '?', 'This', 'is', 'my', 'first', 'python', 'program'].\n",
        "\n",
        "(3) Compare the two sentences. Print out a list of words that occur in both sentences.\n",
        "\n",
        "(4) Remove any punctuation from the sentence and print it back out. It should remove at least the following characters, but it can remove more: period(“.”), comma (“,”), semicolon (“;”), and colon (“:”)\n",
        "\n",
        "(5) Count the number of vowels in the sentences. Print out each vowel and the number of times it appears in the sentences, such as: a:2, e:1, i:0, etc"
      ]
    },
    {
      "cell_type": "code",
      "execution_count": 2,
      "metadata": {
        "id": "Y0oOSlsOS0cq",
        "colab": {
          "base_uri": "https://localhost:8080/"
        },
        "outputId": "9926a879-ab55-4253-e402-9766cbf78f0e"
      },
      "outputs": [
        {
          "output_type": "stream",
          "name": "stdout",
          "text": [
            "Enter the first sentence: I Play basketball\n",
            "Enter the second sentence: I play Table tennis \n",
            "Words in common: ['I']\n",
            "Sentence 1 without punctuation: I Play basketball\n",
            "Sentence 2 without punctuation: I play Table tennis\n",
            "Vowel count in sentence 1: {'a': 3, 'e': 1, 'i': 0, 'o': 0, 'u': 0, 'A': 0, 'E': 0, 'I': 1, 'O': 0, 'U': 0}\n",
            "Vowel count in sentence 2: {'a': 2, 'e': 2, 'i': 1, 'o': 0, 'u': 0, 'A': 0, 'E': 0, 'I': 1, 'O': 0, 'U': 0}\n"
          ]
        }
      ],
      "source": [
        "# Your code here\n",
        "import string\n",
        "\n",
        "# Function to split a sentence into a list of words\n",
        "def split_sentence(sentence):\n",
        "    words = []\n",
        "    current_word = ''\n",
        "    for char in sentence:\n",
        "        if char.isalnum() or char in string.punctuation:\n",
        "            current_word += char\n",
        "        else:\n",
        "            if current_word:\n",
        "                words.append(current_word)\n",
        "            current_word = ''\n",
        "    if current_word:\n",
        "        words.append(current_word)\n",
        "    return words\n",
        "\n",
        "# Function to remove punctuation from a list of words\n",
        "def remove_punctuation(words):\n",
        "    return [word for word in words if word not in string.punctuation]\n",
        "\n",
        "# Function to count vowels in a sentence\n",
        "def count_vowels(sentence):\n",
        "    vowels = 'aeiouAEIOU'\n",
        "    vowel_count = {vowel: 0 for vowel in vowels}\n",
        "    for char in sentence:\n",
        "        if char in vowels:\n",
        "            vowel_count[char] += 1\n",
        "    return vowel_count\n",
        "\n",
        "# Ask the user to enter two sentences\n",
        "sentence1 = input(\"Enter the first sentence: \")\n",
        "sentence2 = input(\"Enter the second sentence: \")\n",
        "\n",
        "# Split the sentences into lists of words\n",
        "words1 = split_sentence(sentence1)\n",
        "words2 = split_sentence(sentence2)\n",
        "\n",
        "# Compare the two sentences and find common words\n",
        "common_words = list(set(words1) & set(words2))\n",
        "\n",
        "# Remove punctuation from the sentences\n",
        "cleaned_sentence1 = ' '.join(remove_punctuation(words1))\n",
        "cleaned_sentence2 = ' '.join(remove_punctuation(words2))\n",
        "\n",
        "# Count vowels in the sentences\n",
        "vowel_count1 = count_vowels(sentence1)\n",
        "vowel_count2 = count_vowels(sentence2)\n",
        "\n",
        "# Print the results\n",
        "print(\"Words in common:\", common_words)\n",
        "print(\"Sentence 1 without punctuation:\", cleaned_sentence1)\n",
        "print(\"Sentence 2 without punctuation:\", cleaned_sentence2)\n",
        "print(\"Vowel count in sentence 1:\", vowel_count1)\n",
        "print(\"Vowel count in sentence 2:\", vowel_count2)\n"
      ]
    },
    {
      "cell_type": "markdown",
      "metadata": {
        "id": "CmFoI4jDS9nx"
      },
      "source": [
        "# Question 3\n",
        "\n",
        "(15 points). The formula that describes the volume V of a sphere with radius r is the following:\n",
        "\n",
        "$ V=\\frac{4}{3}\\ast\\ \\pi\\ast\\ r^3 $\n",
        "\n",
        "Write a program to calculate the value of V when r is in the range of 1–10. Output the result in the following format:\n",
        "\n",
        "\tr\tV\n",
        "\t1\t…\n",
        "\t2\t…\n",
        "\t3\t…\n"
      ]
    },
    {
      "cell_type": "code",
      "execution_count": 3,
      "metadata": {
        "id": "pEyqeioAT95b",
        "colab": {
          "base_uri": "https://localhost:8080/"
        },
        "outputId": "35a0efac-b47d-4b9b-c164-dc606d505503"
      },
      "outputs": [
        {
          "output_type": "stream",
          "name": "stdout",
          "text": [
            "Radius: 1, Volume: 4.19\n",
            "Radius: 2, Volume: 33.51\n",
            "Radius: 3, Volume: 113.10\n",
            "Radius: 4, Volume: 268.08\n",
            "Radius: 5, Volume: 523.60\n",
            "Radius: 6, Volume: 904.78\n",
            "Radius: 7, Volume: 1436.76\n",
            "Radius: 8, Volume: 2144.66\n",
            "Radius: 9, Volume: 3053.63\n",
            "Radius: 10, Volume: 4188.79\n"
          ]
        }
      ],
      "source": [
        "# Your code here\n",
        "\n",
        "import math\n",
        "\n",
        "# Function to calculate the volume of a sphere given its radius\n",
        "def calculate_sphere_volume(radius):\n",
        "    return (4/3) * math.pi * (radius**3)\n",
        "\n",
        "# Loop through radii from 1 to 10 and calculate volumes\n",
        "for radius in range(1, 11):\n",
        "    volume = calculate_sphere_volume(radius)\n",
        "    print(f\"Radius: {radius}, Volume: {volume:.2f}\")\n"
      ]
    },
    {
      "cell_type": "markdown",
      "metadata": {
        "id": "z3tBE7E-Xn5X"
      },
      "source": [
        "# Question 4\n",
        "\n",
        "(40 points). In the field of Data Science, data is often formatted as a comma-delimited (CSV) file, where each line in a file corresponds to a field's value. Refer to Chapter 9 (p. 106) for more information on comma-delimited files. To answer this question, you will need to download the file [Assignment1_denton_housing.csv](https://raw.githubusercontent.com/unt-iialab/info5731-spring2022/main/assignments/Assignment1_denton_housing.csv) included with this assignment. The file [Assignment1_denton_housing.csv](https://raw.githubusercontent.com/unt-iialab/info5731-spring2022/main/assignments/Assignment1_denton_housing.csv) contains statistics about housing in the city of Denton from 2008 to 2014. Write a program to implement the following questions.\n",
        "\n",
        "(1) (10 pts) Calculate the difference in the number of Occupied Housing Units from year to year and print it. The difference must be calculated for the consecutive years such as 2008-2009, 2009-2010 etc. Finally, print the values in the ascending order.\n",
        "\n",
        "(2) (10 pts) For all the years, calculate the percentage of housing units which are vacant an occupied. Print the results in the following format:\n",
        "\n",
        "Year Vacant Housing Units Occupied Housing Units\n",
        "\n",
        "    2008  30%   70%                          \n",
        "\t2009 ----- -----\n",
        "\t2010 ----- -----\n",
        "    2011 ----- -----\n",
        "\t2012 ----- -----\n",
        "    2013 ----- -----\n",
        "\t2014 ----- -----\n",
        "  \n",
        "  \n",
        "\n",
        "(3) (10 pts) Calculate and print the valued and years in which the highest number of housing units were vacant and occupied. Print the results in the following format:  \n",
        "\n",
        "                              Year\tValue\n",
        "\tVacant Housing Units\t  -----   -----\n",
        "\tOccupied Housing Units\t-----   -----\n",
        "\n",
        "(4) (10 pts) Calculate the harmonic mean of the total housing units and print it out. You can find the information about harmonic mean here: https://ncalculators.com/statistics/harmonic-mean-calculator.htm"
      ]
    },
    {
      "cell_type": "code",
      "execution_count": 4,
      "metadata": {
        "id": "lqGYuHBhcsRH",
        "colab": {
          "base_uri": "https://localhost:8080/"
        },
        "outputId": "8a72a1a8-2f57-42de-d7e4-c3f316d975c2"
      },
      "outputs": [
        {
          "output_type": "stream",
          "name": "stdout",
          "text": [
            "Task 1: Difference in Occupied Housing Units from year to year (ascending order):\n",
            "2008.0-2009.0: 32228\n",
            "2009.0-2010.0: 32333\n",
            "2011.0-2012.0: 36491\n",
            "2010.0-2011.0: 37372\n",
            "2012.0-2013.0: 39095\n",
            "2013.0-2014.0: 39458\n",
            "2014.0-2015.0: 43481\n",
            "\n",
            "Task 2: Percentage of Housing Units (Vacant and Occupied) for each year:\n",
            "      Vacant Housing Units  Occupied Housing Units\n",
            "year                                              \n",
            "2014                  2814                   46295\n",
            "2013                  4215                   43673\n",
            "2012                  3013                   42108\n",
            "2011                  4213                   40704\n",
            "2010                  3635                   41007\n",
            "2009                  3583                   35916\n",
            "2008                  4483                   36711\n",
            "\n",
            "Task 3: Years with the highest number of housing units (Vacant and Occupied):\n",
            "Highest Vacant Housing Units: 2008, 4483 units\n",
            "Highest Occupied Housing Units: 2014, 46295 units\n",
            "\n",
            "Task 4: Harmonic Mean of Total Housing Units: 44398.28543969185\n"
          ]
        }
      ],
      "source": [
        "# Your code here\n",
        "\n",
        "import pandas as pd\n",
        "\n",
        "# Read the CSV file\n",
        "data = pd.read_csv('/content/Assignment1_denton_housing.csv')\n",
        "\n",
        "# Task 1: Calculate the difference in occupied housing units from year to year\n",
        "data['year_diff'] = data['value'].diff()\n",
        "yearly_diff = data[data['title_field'] == 'Occupied Housing Units'][['year', 'year_diff']]\n",
        "yearly_diff = yearly_diff.sort_values(by='year_diff')\n",
        "\n",
        "print(\"Task 1: Difference in Occupied Housing Units from year to year (ascending order):\")\n",
        "for index, row in yearly_diff.iterrows():\n",
        "    year = row['year']\n",
        "    diff = row['year_diff']\n",
        "    if not pd.isna(diff):\n",
        "        print(f\"{year}-{year+1}: {int(diff)}\")\n",
        "\n",
        "# Task 2: Calculate the percentage of vacant and occupied housing units for each year\n",
        "occupied_units = data[data['title_field'] == 'Occupied Housing Units'][['year', 'value']].set_index('year')\n",
        "vacant_units = data[data['title_field'] == 'Vacant Housing Units'][['year', 'value']].set_index('year')\n",
        "\n",
        "percentage_data = pd.concat([vacant_units, occupied_units], axis=1)\n",
        "percentage_data.columns = ['Vacant Housing Units', 'Occupied Housing Units']\n",
        "percentage_data['Total Housing Units'] = percentage_data['Vacant Housing Units'] + percentage_data['Occupied Housing Units']\n",
        "percentage_data['Vacant Housing Percentage'] = (percentage_data['Vacant Housing Units'] / percentage_data['Total Housing Units']) * 100\n",
        "percentage_data['Occupied Housing Percentage'] = (percentage_data['Occupied Housing Units'] / percentage_data['Total Housing Units']) * 100\n",
        "\n",
        "print(\"\\nTask 2: Percentage of Housing Units (Vacant and Occupied) for each year:\")\n",
        "print(percentage_data[['Vacant Housing Units', 'Occupied Housing Units']].to_string())\n",
        "\n",
        "\n",
        "# Task 3: Find the years with the highest number of vacant and occupied housing units\n",
        "max_vacant = percentage_data['Vacant Housing Units'].idxmax()\n",
        "max_occupied = percentage_data['Occupied Housing Units'].idxmax()\n",
        "print(\"\\nTask 3: Years with the highest number of housing units (Vacant and Occupied):\")\n",
        "print(f\"Highest Vacant Housing Units: {max_vacant}, {int(percentage_data.loc[max_vacant, 'Vacant Housing Units'])} units\")\n",
        "print(f\"Highest Occupied Housing Units: {max_occupied}, {int(percentage_data.loc[max_occupied, 'Occupied Housing Units'])} units\")\n",
        "\n",
        "# Task 4: Calculate the harmonic mean of total housing units\n",
        "total_housing_units = data[data['title_field'] == 'Total Housing Units'][['year', 'value']].set_index('year')\n",
        "harmonic_mean = len(total_housing_units) / sum(1 / total_housing_units['value'])\n",
        "print(\"\\nTask 4: Harmonic Mean of Total Housing Units:\", harmonic_mean)\n"
      ]
    },
    {
      "cell_type": "code",
      "source": [],
      "metadata": {
        "id": "2qbUv6oB1TcL"
      },
      "execution_count": 4,
      "outputs": []
    }
  ],
  "metadata": {
    "colab": {
      "provenance": []
    },
    "kernelspec": {
      "display_name": "Python 3 (ipykernel)",
      "language": "python",
      "name": "python3"
    },
    "language_info": {
      "codemirror_mode": {
        "name": "ipython",
        "version": 3
      },
      "file_extension": ".py",
      "mimetype": "text/x-python",
      "name": "python",
      "nbconvert_exporter": "python",
      "pygments_lexer": "ipython3",
      "version": "3.9.12"
    }
  },
  "nbformat": 4,
  "nbformat_minor": 0
}